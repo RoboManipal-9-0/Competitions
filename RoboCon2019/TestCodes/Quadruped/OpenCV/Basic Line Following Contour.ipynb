{
 "cells": [
  {
   "cell_type": "code",
   "execution_count": 2,
   "metadata": {},
   "outputs": [],
   "source": [
    "import numpy as np\n",
    "import cv2\n",
    "cap_video=cv2.VideoCapture(0)"
   ]
  },
  {
   "cell_type": "code",
   "execution_count": 8,
   "metadata": {},
   "outputs": [
    {
     "data": {
      "text/plain": [
       "False"
      ]
     },
     "execution_count": 8,
     "metadata": {},
     "output_type": "execute_result"
    }
   ],
   "source": [
    "cap_video.set(3, 180)\n",
    "cap_video.set(4, 150)"
   ]
  },
  {
   "cell_type": "markdown",
   "metadata": {},
   "source": [
    "1) cap_video_read() reads a frame and ret stores false if there is no video\n",
    "\n",
    "2) .threshold(image, threshold_value to classify pixels, maxVAl to be given if pixel val>thres, style)\n",
    "\n",
    "3) Before finding contours we retrieve a thresholded image as contour works better on binary images. Also object to be found is white and background is black.\n",
    "\n",
    "Three arguments to the findContours function: image, contour_retrieval mode, contour approx method\n",
    "Contours is a list of all the contours in the image,where each contour is a numpy array of (x,y) coordinates of boundary points of the object. The CHAIN_APPROX_NONE returns all the boundary points."
   ]
  },
  {
   "cell_type": "code",
   "execution_count": 7,
   "metadata": {},
   "outputs": [
    {
     "ename": "TypeError",
     "evalue": "'NoneType' object has no attribute '__getitem__'",
     "output_type": "error",
     "traceback": [
      "\u001b[0;31m---------------------------------------------------------------------------\u001b[0m",
      "\u001b[0;31mTypeError\u001b[0m                                 Traceback (most recent call last)",
      "\u001b[0;32m<ipython-input-7-9a7ee9abfd59>\u001b[0m in \u001b[0;36m<module>\u001b[0;34m()\u001b[0m\n\u001b[1;32m      1\u001b[0m \u001b[0;32mwhile\u001b[0m\u001b[0;34m(\u001b[0m\u001b[0mTrue\u001b[0m\u001b[0;34m)\u001b[0m\u001b[0;34m:\u001b[0m\u001b[0;34m\u001b[0m\u001b[0m\n\u001b[1;32m      2\u001b[0m     \u001b[0mret\u001b[0m\u001b[0;34m,\u001b[0m \u001b[0mframe\u001b[0m\u001b[0;34m=\u001b[0m\u001b[0mcap_video\u001b[0m\u001b[0;34m.\u001b[0m\u001b[0mread\u001b[0m\u001b[0;34m(\u001b[0m\u001b[0;34m)\u001b[0m\u001b[0;34m\u001b[0m\u001b[0m\n\u001b[0;32m----> 3\u001b[0;31m     \u001b[0mcrop_img\u001b[0m\u001b[0;34m=\u001b[0m\u001b[0mframe\u001b[0m\u001b[0;34m[\u001b[0m\u001b[0;36m90\u001b[0m\u001b[0;34m:\u001b[0m\u001b[0;36m150\u001b[0m\u001b[0;34m,\u001b[0m \u001b[0;36m0\u001b[0m\u001b[0;34m:\u001b[0m\u001b[0;36m180\u001b[0m\u001b[0;34m]\u001b[0m\u001b[0;34m\u001b[0m\u001b[0m\n\u001b[0m\u001b[1;32m      4\u001b[0m     \u001b[0mgray\u001b[0m\u001b[0;34m=\u001b[0m\u001b[0mcv2\u001b[0m\u001b[0;34m.\u001b[0m\u001b[0mcvtColor\u001b[0m\u001b[0;34m(\u001b[0m\u001b[0mcrop_img\u001b[0m\u001b[0;34m,\u001b[0m \u001b[0mcv2\u001b[0m\u001b[0;34m.\u001b[0m\u001b[0mCOLOR_BGR2GRAY\u001b[0m\u001b[0;34m)\u001b[0m\u001b[0;34m\u001b[0m\u001b[0m\n\u001b[1;32m      5\u001b[0m     \u001b[0mblur\u001b[0m\u001b[0;34m=\u001b[0m\u001b[0mcv2\u001b[0m\u001b[0;34m.\u001b[0m\u001b[0mGaussianBlur\u001b[0m\u001b[0;34m(\u001b[0m\u001b[0mgray\u001b[0m\u001b[0;34m,\u001b[0m\u001b[0;34m(\u001b[0m\u001b[0;36m5\u001b[0m\u001b[0;34m,\u001b[0m\u001b[0;36m5\u001b[0m\u001b[0;34m)\u001b[0m\u001b[0;34m,\u001b[0m\u001b[0;36m0\u001b[0m\u001b[0;34m)\u001b[0m\u001b[0;34m\u001b[0m\u001b[0m\n",
      "\u001b[0;31mTypeError\u001b[0m: 'NoneType' object has no attribute '__getitem__'"
     ]
    }
   ],
   "source": [
    "while(True):\n",
    "    ret, frame=cap_video.read()\n",
    "    crop_img=frame[90:150, 0:180]\n",
    "    gray=cv2.cvtColor(crop_img, cv2.COLOR_BGR2GRAY)\n",
    "    blur=cv2.GaussianBlur(gray,(5,5),0)\n",
    "    ret, thresh=cv2.threshold(blur,70,255,cv2.THRESH_BINARY_INV)\n",
    "    contours, hierarchy=cv2.findContours(thresh.copy(),1,cv2.CHAIN_APPROX_NONE)\n",
    "    "
   ]
  },
  {
   "cell_type": "markdown",
   "metadata": {},
   "source": [
    "We find the biggest contour among the detected contours. We use the one with the biggest area here, and then the X and Y coordinates of its center. \n",
    "Refered to :\n",
    "[Wikipedia page on Image moments](https://en.wikipedia.org/wiki/Image_moment)\n",
    "[Tutorial on Contour Features](https://opencv-python-tutroals.readthedocs.io/en/latest/py_tutorials/py_imgproc/py_contours/py_contour_features/py_contour_features.html#contour-features)\n",
    "The tutorial above on contour features describes the code snippet used. Centroid is given by the following code snippet\n",
    "```\n",
    "cx = int(M['m10']/M['m00'])\n",
    "cy = int(M['m01']/M['m00'])\n",
    "\n",
    "```\n"
   ]
  },
  {
   "cell_type": "code",
   "execution_count": null,
   "metadata": {},
   "outputs": [],
   "source": [
    "    if len(contours) > 0:\n",
    "\n",
    "        c = max(contours, key=cv2.contourArea)\n",
    "        M = cv2.moments(c)\n",
    "\n",
    "        cx = int(M['m10']/M['m00'])\n",
    "        cy = int(M['m01']/M['m00'])\n",
    "\n",
    "        cv2.line(crop_img,(cx,0),(cx,1350),(255,0,0),1)\n",
    "        cv2.line(crop_img,(0,cy),(1280,cy),(255,0,0),1)\n",
    "        cv2.drawContours(crop_img, contours, -1, (0,255,0), 1)\n",
    "\n",
    "        if cx >= 120:\n",
    "            print \"Turn Left!\"\n",
    "\n",
    "        if cx < 120 and cx > 50:\n",
    "            print \"On Line!\"\n",
    "\n",
    "        if cx <= 50:\n",
    "            print \"Turn Right\"\n",
    "            \n",
    "\n",
    "    else:\n",
    "        print \"No line \"\n",
    "\n",
    "\n",
    "    cv2.imshow('frame',crop_img)\n",
    "\n",
    "    if cv2.waitKey(1) & 0xFF == ord('q'):\n",
    "\n",
    "        break "
   ]
  },
  {
   "cell_type": "markdown",
   "metadata": {},
   "source": [
    "In the above code snippet we draw the contours and lines onto the cropped image. \n",
    "###Note while testing: \n",
    "1)Check the 1350 and 1280 values\n",
    "2)Change the thresholding\n",
    "3)Change the frame size\n",
    "4)Change the video frame size\n",
    "5)Mostly not necessary but increase GAussian kernel size if necessary\n",
    "6)Reduce resolution further"
   ]
  }
 ],
 "metadata": {
  "kernelspec": {
   "display_name": "Python 2",
   "language": "python",
   "name": "python2"
  },
  "language_info": {
   "codemirror_mode": {
    "name": "ipython",
    "version": 2
   },
   "file_extension": ".py",
   "mimetype": "text/x-python",
   "name": "python",
   "nbconvert_exporter": "python",
   "pygments_lexer": "ipython2",
   "version": "2.7.15"
  }
 },
 "nbformat": 4,
 "nbformat_minor": 2
}
